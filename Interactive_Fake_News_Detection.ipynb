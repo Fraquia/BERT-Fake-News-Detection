{
  "nbformat": 4,
  "nbformat_minor": 0,
  "metadata": {
    "colab": {
      "name": "Interactive_Fake_News_Detection.ipynb",
      "provenance": [],
      "collapsed_sections": [
        "nQ9eGB5j4cMq",
        "UO26tf62_PJJ",
        "TMTNHP_GClQ0"
      ]
    },
    "kernelspec": {
      "name": "python3",
      "display_name": "Python 3"
    },
    "accelerator": "GPU",
    "widgets": {
      "application/vnd.jupyter.widget-state+json": {
        "68addd1b148f4785ae360707c23da9f3": {
          "model_module": "@jupyter-widgets/controls",
          "model_name": "HBoxModel",
          "state": {
            "_view_name": "HBoxView",
            "_dom_classes": [],
            "_model_name": "HBoxModel",
            "_view_module": "@jupyter-widgets/controls",
            "_model_module_version": "1.5.0",
            "_view_count": null,
            "_view_module_version": "1.5.0",
            "box_style": "",
            "layout": "IPY_MODEL_78946f3ba4974266a369edbd041953f6",
            "_model_module": "@jupyter-widgets/controls",
            "children": [
              "IPY_MODEL_b3c86564b02e42fb844c75d4a9509a9d",
              "IPY_MODEL_a5c59a482c8a4fc5acdaa8e0352a8058"
            ]
          }
        },
        "78946f3ba4974266a369edbd041953f6": {
          "model_module": "@jupyter-widgets/base",
          "model_name": "LayoutModel",
          "state": {
            "_view_name": "LayoutView",
            "grid_template_rows": null,
            "right": null,
            "justify_content": null,
            "_view_module": "@jupyter-widgets/base",
            "overflow": null,
            "_model_module_version": "1.2.0",
            "_view_count": null,
            "flex_flow": null,
            "width": null,
            "min_width": null,
            "border": null,
            "align_items": null,
            "bottom": null,
            "_model_module": "@jupyter-widgets/base",
            "top": null,
            "grid_column": null,
            "overflow_y": null,
            "overflow_x": null,
            "grid_auto_flow": null,
            "grid_area": null,
            "grid_template_columns": null,
            "flex": null,
            "_model_name": "LayoutModel",
            "justify_items": null,
            "grid_row": null,
            "max_height": null,
            "align_content": null,
            "visibility": null,
            "align_self": null,
            "height": null,
            "min_height": null,
            "padding": null,
            "grid_auto_rows": null,
            "grid_gap": null,
            "max_width": null,
            "order": null,
            "_view_module_version": "1.2.0",
            "grid_template_areas": null,
            "object_position": null,
            "object_fit": null,
            "grid_auto_columns": null,
            "margin": null,
            "display": null,
            "left": null
          }
        },
        "b3c86564b02e42fb844c75d4a9509a9d": {
          "model_module": "@jupyter-widgets/controls",
          "model_name": "FloatProgressModel",
          "state": {
            "_view_name": "ProgressView",
            "style": "IPY_MODEL_6431e04dcf58485b9611545778aabf70",
            "_dom_classes": [],
            "description": "Downloading: 100%",
            "_model_name": "FloatProgressModel",
            "bar_style": "success",
            "max": 231508,
            "_view_module": "@jupyter-widgets/controls",
            "_model_module_version": "1.5.0",
            "value": 231508,
            "_view_count": null,
            "_view_module_version": "1.5.0",
            "orientation": "horizontal",
            "min": 0,
            "description_tooltip": null,
            "_model_module": "@jupyter-widgets/controls",
            "layout": "IPY_MODEL_6e12146ced75484792f8b4b0d58b2a55"
          }
        },
        "a5c59a482c8a4fc5acdaa8e0352a8058": {
          "model_module": "@jupyter-widgets/controls",
          "model_name": "HTMLModel",
          "state": {
            "_view_name": "HTMLView",
            "style": "IPY_MODEL_d4104c04103141ab8929430433628427",
            "_dom_classes": [],
            "description": "",
            "_model_name": "HTMLModel",
            "placeholder": "​",
            "_view_module": "@jupyter-widgets/controls",
            "_model_module_version": "1.5.0",
            "value": " 232k/232k [00:04&lt;00:00, 50.9kB/s]",
            "_view_count": null,
            "_view_module_version": "1.5.0",
            "description_tooltip": null,
            "_model_module": "@jupyter-widgets/controls",
            "layout": "IPY_MODEL_dbc68145e119493b9b5730ad3c9b33b7"
          }
        },
        "6431e04dcf58485b9611545778aabf70": {
          "model_module": "@jupyter-widgets/controls",
          "model_name": "ProgressStyleModel",
          "state": {
            "_view_name": "StyleView",
            "_model_name": "ProgressStyleModel",
            "description_width": "initial",
            "_view_module": "@jupyter-widgets/base",
            "_model_module_version": "1.5.0",
            "_view_count": null,
            "_view_module_version": "1.2.0",
            "bar_color": null,
            "_model_module": "@jupyter-widgets/controls"
          }
        },
        "6e12146ced75484792f8b4b0d58b2a55": {
          "model_module": "@jupyter-widgets/base",
          "model_name": "LayoutModel",
          "state": {
            "_view_name": "LayoutView",
            "grid_template_rows": null,
            "right": null,
            "justify_content": null,
            "_view_module": "@jupyter-widgets/base",
            "overflow": null,
            "_model_module_version": "1.2.0",
            "_view_count": null,
            "flex_flow": null,
            "width": null,
            "min_width": null,
            "border": null,
            "align_items": null,
            "bottom": null,
            "_model_module": "@jupyter-widgets/base",
            "top": null,
            "grid_column": null,
            "overflow_y": null,
            "overflow_x": null,
            "grid_auto_flow": null,
            "grid_area": null,
            "grid_template_columns": null,
            "flex": null,
            "_model_name": "LayoutModel",
            "justify_items": null,
            "grid_row": null,
            "max_height": null,
            "align_content": null,
            "visibility": null,
            "align_self": null,
            "height": null,
            "min_height": null,
            "padding": null,
            "grid_auto_rows": null,
            "grid_gap": null,
            "max_width": null,
            "order": null,
            "_view_module_version": "1.2.0",
            "grid_template_areas": null,
            "object_position": null,
            "object_fit": null,
            "grid_auto_columns": null,
            "margin": null,
            "display": null,
            "left": null
          }
        },
        "d4104c04103141ab8929430433628427": {
          "model_module": "@jupyter-widgets/controls",
          "model_name": "DescriptionStyleModel",
          "state": {
            "_view_name": "StyleView",
            "_model_name": "DescriptionStyleModel",
            "description_width": "",
            "_view_module": "@jupyter-widgets/base",
            "_model_module_version": "1.5.0",
            "_view_count": null,
            "_view_module_version": "1.2.0",
            "_model_module": "@jupyter-widgets/controls"
          }
        },
        "dbc68145e119493b9b5730ad3c9b33b7": {
          "model_module": "@jupyter-widgets/base",
          "model_name": "LayoutModel",
          "state": {
            "_view_name": "LayoutView",
            "grid_template_rows": null,
            "right": null,
            "justify_content": null,
            "_view_module": "@jupyter-widgets/base",
            "overflow": null,
            "_model_module_version": "1.2.0",
            "_view_count": null,
            "flex_flow": null,
            "width": null,
            "min_width": null,
            "border": null,
            "align_items": null,
            "bottom": null,
            "_model_module": "@jupyter-widgets/base",
            "top": null,
            "grid_column": null,
            "overflow_y": null,
            "overflow_x": null,
            "grid_auto_flow": null,
            "grid_area": null,
            "grid_template_columns": null,
            "flex": null,
            "_model_name": "LayoutModel",
            "justify_items": null,
            "grid_row": null,
            "max_height": null,
            "align_content": null,
            "visibility": null,
            "align_self": null,
            "height": null,
            "min_height": null,
            "padding": null,
            "grid_auto_rows": null,
            "grid_gap": null,
            "max_width": null,
            "order": null,
            "_view_module_version": "1.2.0",
            "grid_template_areas": null,
            "object_position": null,
            "object_fit": null,
            "grid_auto_columns": null,
            "margin": null,
            "display": null,
            "left": null
          }
        }
      }
    }
  },
  "cells": [
    {
      "cell_type": "markdown",
      "metadata": {
        "id": "EtKwzY2n_ykI"
      },
      "source": [
        "# Work in the background"
      ]
    },
    {
      "cell_type": "markdown",
      "metadata": {
        "id": "nQ9eGB5j4cMq"
      },
      "source": [
        "#### Installs & Imports"
      ]
    },
    {
      "cell_type": "code",
      "metadata": {
        "id": "qgPQI5J64jXh",
        "colab": {
          "base_uri": "https://localhost:8080/"
        },
        "outputId": "8cf6064a-75f8-40dc-b0c8-690741892b31"
      },
      "source": [
        "!pip install transformers==2.8.0"
      ],
      "execution_count": 1,
      "outputs": [
        {
          "output_type": "stream",
          "text": [
            "Collecting transformers==2.8.0\n",
            "\u001b[?25l  Downloading https://files.pythonhosted.org/packages/a3/78/92cedda05552398352ed9784908b834ee32a0bd071a9b32de287327370b7/transformers-2.8.0-py3-none-any.whl (563kB)\n",
            "\u001b[K     |████████████████████████████████| 573kB 7.7MB/s \n",
            "\u001b[?25hRequirement already satisfied: filelock in /usr/local/lib/python3.6/dist-packages (from transformers==2.8.0) (3.0.12)\n",
            "Collecting sacremoses\n",
            "\u001b[?25l  Downloading https://files.pythonhosted.org/packages/7d/34/09d19aff26edcc8eb2a01bed8e98f13a1537005d31e95233fd48216eed10/sacremoses-0.0.43.tar.gz (883kB)\n",
            "\u001b[K     |████████████████████████████████| 890kB 26.6MB/s \n",
            "\u001b[?25hRequirement already satisfied: numpy in /usr/local/lib/python3.6/dist-packages (from transformers==2.8.0) (1.19.4)\n",
            "Collecting sentencepiece\n",
            "\u001b[?25l  Downloading https://files.pythonhosted.org/packages/e5/2d/6d4ca4bef9a67070fa1cac508606328329152b1df10bdf31fb6e4e727894/sentencepiece-0.1.94-cp36-cp36m-manylinux2014_x86_64.whl (1.1MB)\n",
            "\u001b[K     |████████████████████████████████| 1.1MB 19.9MB/s \n",
            "\u001b[?25hRequirement already satisfied: dataclasses; python_version < \"3.7\" in /usr/local/lib/python3.6/dist-packages (from transformers==2.8.0) (0.8)\n",
            "Requirement already satisfied: tqdm>=4.27 in /usr/local/lib/python3.6/dist-packages (from transformers==2.8.0) (4.41.1)\n",
            "Requirement already satisfied: requests in /usr/local/lib/python3.6/dist-packages (from transformers==2.8.0) (2.23.0)\n",
            "Collecting boto3\n",
            "\u001b[?25l  Downloading https://files.pythonhosted.org/packages/28/78/4067ce89180daf0b2027df4b3e4c4734d73b99c3a664d262a4c4d5ac1021/boto3-1.16.47-py2.py3-none-any.whl (130kB)\n",
            "\u001b[K     |████████████████████████████████| 133kB 51.8MB/s \n",
            "\u001b[?25hCollecting tokenizers==0.5.2\n",
            "\u001b[?25l  Downloading https://files.pythonhosted.org/packages/d1/3f/73c881ea4723e43c1e9acf317cf407fab3a278daab3a69c98dcac511c04f/tokenizers-0.5.2-cp36-cp36m-manylinux1_x86_64.whl (3.7MB)\n",
            "\u001b[K     |████████████████████████████████| 3.7MB 47.1MB/s \n",
            "\u001b[?25hRequirement already satisfied: regex!=2019.12.17 in /usr/local/lib/python3.6/dist-packages (from transformers==2.8.0) (2019.12.20)\n",
            "Requirement already satisfied: six in /usr/local/lib/python3.6/dist-packages (from sacremoses->transformers==2.8.0) (1.15.0)\n",
            "Requirement already satisfied: click in /usr/local/lib/python3.6/dist-packages (from sacremoses->transformers==2.8.0) (7.1.2)\n",
            "Requirement already satisfied: joblib in /usr/local/lib/python3.6/dist-packages (from sacremoses->transformers==2.8.0) (1.0.0)\n",
            "Requirement already satisfied: idna<3,>=2.5 in /usr/local/lib/python3.6/dist-packages (from requests->transformers==2.8.0) (2.10)\n",
            "Requirement already satisfied: certifi>=2017.4.17 in /usr/local/lib/python3.6/dist-packages (from requests->transformers==2.8.0) (2020.12.5)\n",
            "Requirement already satisfied: urllib3!=1.25.0,!=1.25.1,<1.26,>=1.21.1 in /usr/local/lib/python3.6/dist-packages (from requests->transformers==2.8.0) (1.24.3)\n",
            "Requirement already satisfied: chardet<4,>=3.0.2 in /usr/local/lib/python3.6/dist-packages (from requests->transformers==2.8.0) (3.0.4)\n",
            "Collecting jmespath<1.0.0,>=0.7.1\n",
            "  Downloading https://files.pythonhosted.org/packages/07/cb/5f001272b6faeb23c1c9e0acc04d48eaaf5c862c17709d20e3469c6e0139/jmespath-0.10.0-py2.py3-none-any.whl\n",
            "Collecting botocore<1.20.0,>=1.19.47\n",
            "\u001b[?25l  Downloading https://files.pythonhosted.org/packages/8f/4a/16ffdfc33d93f02604ae9ed1ddb6369030b6f61b583f31dc84e0d0da05c1/botocore-1.19.47-py2.py3-none-any.whl (7.2MB)\n",
            "\u001b[K     |████████████████████████████████| 7.2MB 53.1MB/s \n",
            "\u001b[?25hCollecting s3transfer<0.4.0,>=0.3.0\n",
            "\u001b[?25l  Downloading https://files.pythonhosted.org/packages/69/79/e6afb3d8b0b4e96cefbdc690f741d7dd24547ff1f94240c997a26fa908d3/s3transfer-0.3.3-py2.py3-none-any.whl (69kB)\n",
            "\u001b[K     |████████████████████████████████| 71kB 11.2MB/s \n",
            "\u001b[?25hRequirement already satisfied: python-dateutil<3.0.0,>=2.1 in /usr/local/lib/python3.6/dist-packages (from botocore<1.20.0,>=1.19.47->boto3->transformers==2.8.0) (2.8.1)\n",
            "Building wheels for collected packages: sacremoses\n",
            "  Building wheel for sacremoses (setup.py) ... \u001b[?25l\u001b[?25hdone\n",
            "  Created wheel for sacremoses: filename=sacremoses-0.0.43-cp36-none-any.whl size=893261 sha256=110c1d25ee994f096766d96a7f0b49640337a70f6d911cd15baaa5783a52a72a\n",
            "  Stored in directory: /root/.cache/pip/wheels/29/3c/fd/7ce5c3f0666dab31a50123635e6fb5e19ceb42ce38d4e58f45\n",
            "Successfully built sacremoses\n",
            "\u001b[31mERROR: botocore 1.19.47 has requirement urllib3<1.27,>=1.25.4; python_version != \"3.4\", but you'll have urllib3 1.24.3 which is incompatible.\u001b[0m\n",
            "Installing collected packages: sacremoses, sentencepiece, jmespath, botocore, s3transfer, boto3, tokenizers, transformers\n",
            "Successfully installed boto3-1.16.47 botocore-1.19.47 jmespath-0.10.0 s3transfer-0.3.3 sacremoses-0.0.43 sentencepiece-0.1.94 tokenizers-0.5.2 transformers-2.8.0\n"
          ],
          "name": "stdout"
        }
      ]
    },
    {
      "cell_type": "code",
      "metadata": {
        "id": "isxZ4L6E4sXQ"
      },
      "source": [
        "from torch.utils.data import TensorDataset, DataLoader, RandomSampler, SequentialSampler\n",
        "from transformers import BertTokenizerFast\n",
        "from transformers import BertModel\n",
        "import torch.nn as nn\n",
        "import transformers\n",
        "import numpy as np\n",
        "import warnings\n",
        "import torch\n",
        "import re"
      ],
      "execution_count": 2,
      "outputs": []
    },
    {
      "cell_type": "code",
      "metadata": {
        "id": "8eCSYbqE4xp8",
        "colab": {
          "base_uri": "https://localhost:8080/"
        },
        "outputId": "74becc08-7fc0-4b32-c0dd-d69e2244255b"
      },
      "source": [
        "device = torch.device(\"cuda\")\n",
        "print(f'There are {torch.cuda.device_count()} GPU(s) available.')\n",
        "print('Device name:', torch.cuda.get_device_name(0))"
      ],
      "execution_count": 3,
      "outputs": [
        {
          "output_type": "stream",
          "text": [
            "There are 1 GPU(s) available.\n",
            "Device name: Tesla T4\n"
          ],
          "name": "stdout"
        }
      ]
    },
    {
      "cell_type": "code",
      "metadata": {
        "colab": {
          "base_uri": "https://localhost:8080/"
        },
        "id": "2HhgkyPf35Nb",
        "outputId": "a212de3c-1895-4855-fb1f-1c15e5c9b0ea"
      },
      "source": [
        "from google.colab import drive\n",
        "drive.mount('/content/drive')"
      ],
      "execution_count": 4,
      "outputs": [
        {
          "output_type": "stream",
          "text": [
            "Mounted at /content/drive\n"
          ],
          "name": "stdout"
        }
      ]
    },
    {
      "cell_type": "markdown",
      "metadata": {
        "id": "UO26tf62_PJJ"
      },
      "source": [
        "##### test"
      ]
    },
    {
      "cell_type": "markdown",
      "metadata": {
        "id": "enHwqIYCTKge"
      },
      "source": [
        "**From the New Yorker 2-01-2021**\n",
        "\n",
        "When news networks called Georgia for Joe Biden, on November 13th, Nsé Ufot, the C.E.O. of the New Georgia Project, was atop Stone Mountain, a hunk of granite east of Atlanta that is home to the largest Confederate monument on earth. She was with colleagues, taking a staff photo and celebrating the work they’d done to turn out voters in record numbers. As word of Biden’s victory spread, some people teared up, Ufot said, but not her. Her organization, which was founded, in 2014, by Stacey Abrams, had made three million phone calls, sent two million text messages, and carefully knocked on half a million doors. Biden won the state by around twelve thousand votes. The New Georgia Project’s efforts, and those of a handful of similar groups, put him over the top. They also insured that Georgia would have not one but two runoff elections for the U.S. Senate, on January 5th, pitting a pair of Republican incumbents against Democratic challengers. I asked Ufot whether Georgia had “turned blue,” as headlines proclaimed. “I get the desire to, like, make scorching takes,” she said. “But can we just enjoy this before we get back to work?”"
      ]
    },
    {
      "cell_type": "markdown",
      "metadata": {
        "id": "oou5nXIpTZ1m"
      },
      "source": [
        "**From Before it's news (a known fake news website) 3-01-2021**\n",
        "\n",
        "Vice President Michael Pence is preparing to flee the United States to a non-extradition country in response to credible evidence that his boss, President Donald J. Trump, intends to charge him with treasonous crimes against America and its people.\n",
        "On 1 January Lin Wood, a conservative attorney and Trump Ally who has fought many failed battles to overturn the result of the 2020 election, told Trump that he had found information linking the VP to the Deep State. Wood said Pence was a “trojan horse” in the White House who had been aiding and abetting “agents of evil” for almost four years. The controversial attorney, whom the mainstream media has called a conspiratorial retard, accused Pence of clandestinely meeting with Biden and Adam Schiff several times during the last two weeks of September.\n",
        "The evening after giving Trump evidence of Pence’s betrayal, Wood went on a tweetstorm calling on the president to label Pence an insurrectionist and have him executed via a firing squad."
      ]
    },
    {
      "cell_type": "markdown",
      "metadata": {
        "id": "TMTNHP_GClQ0"
      },
      "source": [
        "#### Bert e preprocessing"
      ]
    },
    {
      "cell_type": "code",
      "metadata": {
        "id": "zugRXL83_cG3"
      },
      "source": [
        "class BertTuned(nn.Module):\n",
        "\n",
        "    def __init__(self):\n",
        "        super(BertTuned, self).__init__()\n",
        "        self.bert = transformers.BertModel.from_pretrained('bert-base-uncased')\n",
        "        self.bert_drop = nn.Dropout(0.35)\n",
        "        self.fc = nn.Linear(768, 1)\n",
        "\n",
        "    def forward(self, ids, mask):\n",
        "        _, out1 = self.bert(ids, attention_mask=mask)\n",
        "        out1 = self.bert_drop(out1)\n",
        "        output = self.fc(out1)\n",
        "        return output"
      ],
      "execution_count": 9,
      "outputs": []
    },
    {
      "cell_type": "code",
      "metadata": {
        "id": "MNyoWOGR_7at"
      },
      "source": [
        "model = BertTuned()\n",
        "model.load_state_dict(torch.load('drive/MyDrive/modelF5.pt'))\n",
        "model.to(device)"
      ],
      "execution_count": null,
      "outputs": []
    },
    {
      "cell_type": "code",
      "metadata": {
        "colab": {
          "base_uri": "https://localhost:8080/",
          "height": 66,
          "referenced_widgets": [
            "68addd1b148f4785ae360707c23da9f3",
            "78946f3ba4974266a369edbd041953f6",
            "b3c86564b02e42fb844c75d4a9509a9d",
            "a5c59a482c8a4fc5acdaa8e0352a8058",
            "6431e04dcf58485b9611545778aabf70",
            "6e12146ced75484792f8b4b0d58b2a55",
            "d4104c04103141ab8929430433628427",
            "dbc68145e119493b9b5730ad3c9b33b7"
          ]
        },
        "id": "H1JozvqC9Dak",
        "outputId": "e02744c4-366d-4939-8caf-65fb5b9f47a4"
      },
      "source": [
        "tokenizer = BertTokenizerFast.from_pretrained('bert-base-uncased')"
      ],
      "execution_count": 13,
      "outputs": [
        {
          "output_type": "display_data",
          "data": {
            "application/vnd.jupyter.widget-view+json": {
              "model_id": "68addd1b148f4785ae360707c23da9f3",
              "version_minor": 0,
              "version_major": 2
            },
            "text/plain": [
              "HBox(children=(FloatProgress(value=0.0, description='Downloading', max=231508.0, style=ProgressStyle(descripti…"
            ]
          },
          "metadata": {
            "tags": []
          }
        },
        {
          "output_type": "stream",
          "text": [
            "\n"
          ],
          "name": "stdout"
        }
      ]
    },
    {
      "cell_type": "code",
      "metadata": {
        "id": "T73TkmFjAIKl"
      },
      "source": [
        "def detectFakeNews():\n",
        "\n",
        "  print(\"Please insert part of the article you would like to examin\")\n",
        "  article = input()\n",
        "  encoded_dict = tokenizer.encode_plus( text = article, add_special_tokens = True, max_length = 512,           \n",
        "                                      pad_to_max_length=True, truncation = True, return_attention_mask = True)\n",
        "  \n",
        "  ids = [encoded_dict['input_ids']]\n",
        "  mask = [encoded_dict['attention_mask']]\n",
        "  ids_ = torch.LongTensor(ids).to(device)\n",
        "  mask_ = torch.LongTensor(mask).to(device)\n",
        "  model.eval()\n",
        "  with torch.no_grad():\n",
        "    preds = model(ids_, mask_)\n",
        "  output = torch.round(torch.sigmoid(preds).flatten()).cpu().detach().numpy().tolist()\n",
        "  if output[0] == 0.0:\n",
        "    print(\"This article is reliable\")\n",
        "  elif output[0] == 1.0:\n",
        "    print(\"This article is not reliable\")\n",
        "  else:\n",
        "    print(\"Something went wrong. Please insert simple text\")"
      ],
      "execution_count": 14,
      "outputs": []
    },
    {
      "cell_type": "markdown",
      "metadata": {
        "id": "Zv5yN4dDSln3"
      },
      "source": [
        "# Let's try it out"
      ]
    },
    {
      "cell_type": "code",
      "metadata": {
        "id": "PFFZBc6DDhs5"
      },
      "source": [
        "detectFakeNews()"
      ],
      "execution_count": null,
      "outputs": []
    },
    {
      "cell_type": "markdown",
      "metadata": {
        "id": "KkWAcs1f-DyQ"
      },
      "source": [
        "**From the New York Times**\n",
        "\n",
        "Thieves Take a Chunk of Change, All 221 Pounds of It, From a Berlin Museum - Melissa Eddy\n",
        "\n",
        "\n",
        "BERLIN  —   You could never palm it, flip it or plunk it into a vending machine. But apparently it can be pinched: One of the world’s largest gold coins, a   Canadian monster called the Big Maple Leaf, was stolen overnight from the Bode Museum in Berlin, the police said on Monday. The coin is about 21 inches in diameter and over an inch thick. It has the head of Queen Elizabeth II on one side and a maple leaf on the other. Its face value is 1 million Canadian dollars, or about \\$750, 000, but by gold content alone, it is worth as much as \\$4. 5 million at current market prices. And though it weighs about as much as a refrigerator, somehow thieves apparently managed to lug it through the museum and up at least one floor to get it out of a window at the back of the building. The police are still trying to figure out exactly how they did it. The Bode Museum, which sits on Museum Island in the Spree River, is part of the complex belonging to the Prussian Cultural Heritage Foundation, or in German, the Preussischer Kulturbesitz. The local   commuter railway runs across the island along the back of the museum. The burglars seemed to have broken in through a window above the railway tracks during the     hours when the trains pause for the night. The police were alerted to the   at 4 a. m. and think that it took place between 3:20 a. m. and 3:45 a. m.  [....]"
      ]
    },
    {
      "cell_type": "markdown",
      "metadata": {
        "id": "0KhOWxeN_Uip"
      },
      "source": [
        "**From RonPaulLibertyReport.com**\n",
        "\n",
        "The Rise of Mandatory Vaccinations Means the End of Medical Freedom - Shaun Bradley\n",
        "\n",
        "Mandatory vaccinations are about to open up a new frontier for government control. Through the war on drugs, bureaucrats arbitrarily dictate what people can and can’t put into their bodies, but that violation pales in comparison to forcibly medicating millions against their will. Voluntary and informed consent are essential in securing individual rights, and without it, self-ownership will never be respected.\n",
        "\n",
        "The liberal stronghold of California is trailblazing the encroaching new practice and recently passed laws mandating that children and adults must have certain immunizations before being able to attend schools or work in certain professions. The longstanding religious and philosophical exemptions that protect freedom of choice have been systematically crushed by the state. [...]"
      ]
    }
  ]
}